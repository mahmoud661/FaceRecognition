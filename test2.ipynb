{
 "cells": [
  {
   "cell_type": "code",
   "execution_count": 1,
   "metadata": {},
   "outputs": [
    {
     "name": "stdout",
     "output_type": "stream",
     "text": [
      "Connecting to the database...\n",
      "Connected to the database.\n"
     ]
    },
    {
     "ename": "KeyboardInterrupt",
     "evalue": "",
     "output_type": "error",
     "traceback": [
      "\u001b[1;31m---------------------------------------------------------------------------\u001b[0m",
      "\u001b[1;31mKeyboardInterrupt\u001b[0m                         Traceback (most recent call last)",
      "Cell \u001b[1;32mIn[1], line 46\u001b[0m\n\u001b[0;32m     43\u001b[0m recognize_button\u001b[38;5;241m.\u001b[39mpack(pady\u001b[38;5;241m=\u001b[39m\u001b[38;5;241m30\u001b[39m)\n\u001b[0;32m     45\u001b[0m \u001b[38;5;66;03m# Start the tkinter main loop\u001b[39;00m\n\u001b[1;32m---> 46\u001b[0m \u001b[43mroot\u001b[49m\u001b[38;5;241;43m.\u001b[39;49m\u001b[43mmainloop\u001b[49m\u001b[43m(\u001b[49m\u001b[43m)\u001b[49m\n",
      "File \u001b[1;32mc:\\Users\\BaSha\\anaconda3\\envs\\vision\\Lib\\tkinter\\__init__.py:1505\u001b[0m, in \u001b[0;36mMisc.mainloop\u001b[1;34m(self, n)\u001b[0m\n\u001b[0;32m   1503\u001b[0m \u001b[38;5;28;01mdef\u001b[39;00m \u001b[38;5;21mmainloop\u001b[39m(\u001b[38;5;28mself\u001b[39m, n\u001b[38;5;241m=\u001b[39m\u001b[38;5;241m0\u001b[39m):\n\u001b[0;32m   1504\u001b[0m \u001b[38;5;250m    \u001b[39m\u001b[38;5;124;03m\"\"\"Call the mainloop of Tk.\"\"\"\u001b[39;00m\n\u001b[1;32m-> 1505\u001b[0m     \u001b[38;5;28;43mself\u001b[39;49m\u001b[38;5;241;43m.\u001b[39;49m\u001b[43mtk\u001b[49m\u001b[38;5;241;43m.\u001b[39;49m\u001b[43mmainloop\u001b[49m\u001b[43m(\u001b[49m\u001b[43mn\u001b[49m\u001b[43m)\u001b[49m\n",
      "\u001b[1;31mKeyboardInterrupt\u001b[0m: "
     ]
    }
   ],
   "source": [
    "import tkinter as tk\n",
    "from tkinter import ttk\n",
    "from functions import capture_and_train, recognize_faces\n",
    "import os\n",
    "\n",
    "if not os.path.exists('dataset'):\n",
    "    os.makedirs('dataset')\n",
    "if not os.path.exists('trainer'):\n",
    "    os.makedirs('trainer')# Create the main application window\n",
    "root = tk.Tk()\n",
    "root.title(\"Face Recognition System\")\n",
    "root.geometry(\"700x500\")\n",
    "root.configure(bg=\"#0a0a0a\")  # Darker background for a sleek look\n",
    "\n",
    "# Style for buttons\n",
    "style = ttk.Style()\n",
    "\n",
    "style.configure(\"TButton\",\n",
    "                font=(\"Helvetica\", 16, \"bold\"),\n",
    "                foreground=\"#f1c40f\",\n",
    "                background=\"#0a0a0a\",\n",
    "                padding=15,\n",
    "                borderwidth=1,\n",
    "                focusthickness=0,\n",
    "                relief=\"flat\")\n",
    "\n",
    "style.map(\"TButton\",\n",
    "          background=[(\"active\", \"#0a0a0a\"), (\"!disabled\", \"#0a0a0a\")],\n",
    "          foreground=[(\"pressed\", \"#f1c40f\"), (\"active\", \"#f1c40f\")])\n",
    "\n",
    "# Title label\n",
    "label = ttk.Label(root, text=\"Face Recognition System\", font=(\"Helvetica\", 24, \"bold\"),\n",
    "                  foreground=\"#f1c40f\", background=\"#0a0a0a\")\n",
    "label.pack(pady=20)\n",
    "\n",
    "# Buttons for capturing/training and recognition\n",
    "capture_button = ttk.Button(\n",
    "    root, text=\"Capture & Train Faces\", command=capture_and_train, style=\"TButton\")\n",
    "capture_button.pack(pady=30)\n",
    "\n",
    "recognize_button = ttk.Button(\n",
    "    root, text=\"Recognize Faces\", command=recognize_faces, style=\"TButton\")\n",
    "recognize_button.pack(pady=30)\n",
    "\n",
    "# Start the tkinter main loop\n",
    "root.mainloop()"
   ]
  },
  {
   "cell_type": "code",
   "execution_count": 16,
   "metadata": {},
   "outputs": [
    {
     "name": "stdout",
     "output_type": "stream",
     "text": [
      "Collecting psycopg2\n",
      "  Using cached psycopg2-2.9.9-cp312-cp312-win_amd64.whl.metadata (4.5 kB)\n",
      "Using cached psycopg2-2.9.9-cp312-cp312-win_amd64.whl (1.2 MB)\n",
      "Installing collected packages: psycopg2\n",
      "Successfully installed psycopg2-2.9.9\n",
      "Note: you may need to restart the kernel to use updated packages.\n"
     ]
    }
   ],
   "source": [
    "%pip install psycopg2"
   ]
  },
  {
   "cell_type": "markdown",
   "metadata": {},
   "source": [
    "<table>\n",
    "  <thead>\n",
    "    <tr>\n",
    "      <th>Model</th>\n",
    "      <th>Strength</th>\n",
    "      <th>Weakness</th>\n",
    "      <th>Best For</th>\n",
    "    </tr>\n",
    "  </thead>\n",
    "  <tbody>\n",
    "    <tr>\n",
    "      <td>Faster R-CNN</td>\n",
    "      <td>High accuracy</td>\n",
    "      <td>Slower, not real-time</td>\n",
    "      <td>Static images, high-precision tasks</td>\n",
    "    </tr>\n",
    "    <tr>\n",
    "      <td>YOLO</td>\n",
    "      <td>Real-time performance</td>\n",
    "      <td>Less precise for small objects</td>\n",
    "      <td>Real-time applications (e.g., video)</td>\n",
    "    </tr>\n",
    "    <tr>\n",
    "      <td>MTCNN</td>\n",
    "      <td>Face detection accuracy, face alignment</td>\n",
    "      <td>Slower, higher computation</td>\n",
    "      <td>Face detection/recognition, security</td>\n",
    "    </tr>\n",
    "    <tr>\n",
    "      <td>RetinaNet</td>\n",
    "      <td>Good balance between speed/accuracy</td>\n",
    "      <td>Slower than SSD, YOLO</td>\n",
    "      <td>Balanced detection tasks</td>\n",
    "    </tr>\n",
    "    <tr>\n",
    "      <td>CenterNet</td>\n",
    "      <td>Anchor-free, efficient</td>\n",
    "      <td>Still not as fast as YOLO</td>\n",
    "      <td>Detecting small objects in real-time</td>\n",
    "    </tr>\n",
    "    <tr>\n",
    "      <td>EfficientDet</td>\n",
    "      <td>Scalable, efficient</td>\n",
    "      <td>Slower than YOLO, SSD</td>\n",
    "      <td>Scalable face detection on limited hardware</td>\n",
    "    </tr>\n",
    "    <tr>\n",
    "      <td>Haar Cascades</td>\n",
    "      <td>Lightweight, fast</td>\n",
    "      <td>Low accuracy in challenging conditions</td>\n",
    "      <td>Simple, lightweight applications</td>\n",
    "    </tr>\n",
    "    <tr>\n",
    "      <td>DPN</td>\n",
    "      <td>Multi-scale feature maps for small objects</td>\n",
    "      <td>Slower than SSD</td>\n",
    "      <td>Detecting small faces, detailed tasks</td>\n",
    "    </tr>\n",
    "    <tr>\n",
    "      <td>R-FCN</td>\n",
    "      <td>Efficient, convolutional</td>\n",
    "      <td>Not as fast as SSD/YOLO</td>\n",
    "      <td>Tasks requiring both speed and accuracy</td>\n",
    "    </tr>\n",
    "  </tbody>\n",
    "</table>\n"
   ]
  },
  {
   "cell_type": "markdown",
   "metadata": {},
   "source": [
    "# Model Architecture: SSD (Single Shot Multibox Detector)"
   ]
  }
 ],
 "metadata": {
  "kernelspec": {
   "display_name": "Python 3",
   "language": "python",
   "name": "python3"
  },
  "language_info": {
   "codemirror_mode": {
    "name": "ipython",
    "version": 3
   },
   "file_extension": ".py",
   "mimetype": "text/x-python",
   "name": "python",
   "nbconvert_exporter": "python",
   "pygments_lexer": "ipython3",
   "version": "3.12.4"
  }
 },
 "nbformat": 4,
 "nbformat_minor": 2
}
